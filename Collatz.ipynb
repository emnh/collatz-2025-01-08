{
  "nbformat": 4,
  "nbformat_minor": 0,
  "metadata": {
    "colab": {
      "provenance": [],
      "authorship_tag": "ABX9TyONBHWHzWKQA6Tjr1I2h4VZ",
      "include_colab_link": true
    },
    "kernelspec": {
      "name": "python3",
      "display_name": "Python 3"
    },
    "language_info": {
      "name": "python"
    }
  },
  "cells": [
    {
      "cell_type": "markdown",
      "metadata": {
        "id": "view-in-github",
        "colab_type": "text"
      },
      "source": [
        "<a href=\"https://colab.research.google.com/github/emnh/collatz-2025-01-08/blob/master/Collatz.ipynb\" target=\"_parent\"><img src=\"https://colab.research.google.com/assets/colab-badge.svg\" alt=\"Open In Colab\"/></a>"
      ]
    },
    {
      "cell_type": "code",
      "source": [
        "def collatz_entanglement(binary_string, padding_zeros=4):\n",
        "    \"\"\"\n",
        "    Simulates Collatz sequence with entanglement and short-circuiting.\n",
        "\n",
        "    Args:\n",
        "        binary_string: The initial binary string.\n",
        "        padding_zeros: Number of zeros for the playing space.\n",
        "\n",
        "    Returns:\n",
        "        A tuple containing:\n",
        "            - Number of Collatz iterations before entanglement.\n",
        "            - Whether the sequence converged to 1.\n",
        "    \"\"\"\n",
        "\n",
        "    left, right = binary_string.split('1', 1)  # Split at first '1' for left and right parts\n",
        "    right = '1' + right  # Include the split '1' in the right part\n",
        "    playing_space = '0' * padding_zeros\n",
        "\n",
        "    iterations = 0\n",
        "    converged = False\n",
        "\n",
        "    while True:\n",
        "        iterations += 1\n",
        "\n",
        "        # Convert right part to integer\n",
        "        n = int(right, 2)\n",
        "\n",
        "        # Apply Collatz function\n",
        "        if n % 2 == 0:\n",
        "            n //= 2\n",
        "        else:\n",
        "            n = 3 * n + 1\n",
        "\n",
        "        # Convert result back to binary\n",
        "        result = bin(n)[2:]\n",
        "\n",
        "        # Check for entanglement\n",
        "        if len(result) > len(right) + padding_zeros:\n",
        "            break  # Entanglement occurred\n",
        "\n",
        "        # Check for convergence\n",
        "        if n == 1:\n",
        "            converged = True\n",
        "            break\n",
        "\n",
        "        # Update right part\n",
        "        right = result.zfill(len(right) + padding_zeros)  # Pad with zeros if needed\n",
        "\n",
        "    return iterations, converged\n",
        "\n",
        "# Example usage\n",
        "binary_string = '10101100110'\n",
        "iterations, converged = collatz_entanglement(binary_string)\n",
        "\n",
        "print(f\"Binary string: {binary_string}\")\n",
        "print(f\"Iterations before entanglement: {iterations}\")\n",
        "print(f\"Converged to 1: {converged}\")\n",
        "\n",
        "# Generate statistics (example)\n",
        "import random\n",
        "\n",
        "num_samples"
      ],
      "metadata": {
        "id": "cMNSrJKOADVt",
        "outputId": "2d6ad6ed-cc5f-4e83-ed54-ebb9bc591c20",
        "colab": {
          "base_uri": "https://localhost:8080/",
          "height": 228
        }
      },
      "execution_count": null,
      "outputs": [
        {
          "output_type": "stream",
          "name": "stdout",
          "text": [
            "Binary string: 10101100110\n",
            "Iterations before entanglement: 127\n",
            "Converged to 1: True\n"
          ]
        },
        {
          "output_type": "error",
          "ename": "NameError",
          "evalue": "name 'num_samples' is not defined",
          "traceback": [
            "\u001b[0;31m---------------------------------------------------------------------------\u001b[0m",
            "\u001b[0;31mNameError\u001b[0m                                 Traceback (most recent call last)",
            "\u001b[0;32m<ipython-input-2-2b9b0e68bef5>\u001b[0m in \u001b[0;36m<cell line: 0>\u001b[0;34m()\u001b[0m\n\u001b[1;32m     60\u001b[0m \u001b[0;32mimport\u001b[0m \u001b[0mrandom\u001b[0m\u001b[0;34m\u001b[0m\u001b[0;34m\u001b[0m\u001b[0m\n\u001b[1;32m     61\u001b[0m \u001b[0;34m\u001b[0m\u001b[0m\n\u001b[0;32m---> 62\u001b[0;31m \u001b[0mnum_samples\u001b[0m\u001b[0;34m\u001b[0m\u001b[0;34m\u001b[0m\u001b[0m\n\u001b[0m",
            "\u001b[0;31mNameError\u001b[0m: name 'num_samples' is not defined"
          ]
        }
      ]
    }
  ]
}